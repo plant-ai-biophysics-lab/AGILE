{
 "cells": [
  {
   "cell_type": "code",
   "execution_count": 28,
   "metadata": {},
   "outputs": [],
   "source": [
    "import os\n",
    "import torch\n",
    "from torch import optim, nn, utils, Tensor\n",
    "from torchvision.datasets import MNIST\n",
    "from torchvision.transforms import ToTensor\n",
    "import lightning as L\n",
    "\n",
    "import torch.utils.data as data\n",
    "from torch.utils.data import DataLoader\n",
    "import torchvision.transforms as transforms\n",
    "import torch.nn.functional as F\n",
    "import matplotlib.pyplot as plt"
   ]
  },
  {
   "cell_type": "markdown",
   "metadata": {},
   "source": [
    "TRAIN"
   ]
  },
  {
   "cell_type": "code",
   "execution_count": 29,
   "metadata": {},
   "outputs": [],
   "source": [
    "# define the LightningModule\n",
    "class LitAutoEncoder(L.LightningModule):\n",
    "    def __init__(self, hidden_dim: int = 64, learning_rate=10e-3):\n",
    "        super().__init__()\n",
    "        self.save_hyperparameters()\n",
    "        self.encoder = nn.Sequential(nn.Linear(28 * 28, hidden_dim), nn.ReLU(), nn.Linear(hidden_dim, 3))\n",
    "        self.decoder = nn.Sequential(nn.Linear(3, hidden_dim), nn.ReLU(), nn.Linear(hidden_dim, 28 * 28))\n",
    "\n",
    "    def forward(self, x):\n",
    "        z = self.encoder(x)\n",
    "        return self.decoder(z)\n",
    "\n",
    "    def training_step(self, batch, batch_idx):\n",
    "        return self._common_step(batch, batch_idx, \"train\")\n",
    "\n",
    "    def validation_step(self, batch, batch_idx):\n",
    "        self._common_step(batch, batch_idx, \"val\")\n",
    "\n",
    "    def test_step(self, batch, batch_idx):\n",
    "        self._common_step(batch, batch_idx, \"test\")\n",
    "\n",
    "    def predict_step(self, batch, batch_idx, dataloader_idx=None):\n",
    "        x = self._prepare_batch(batch)\n",
    "        return self(x)\n",
    "\n",
    "    def configure_optimizers(self):\n",
    "        return torch.optim.Adam(self.parameters(), lr=self.hparams.learning_rate)\n",
    "\n",
    "    def _prepare_batch(self, batch):\n",
    "        x, _ = batch\n",
    "        return x.view(x.size(0), -1)\n",
    "\n",
    "    def _common_step(self, batch, batch_idx, stage: str):\n",
    "        x = self._prepare_batch(batch)\n",
    "        loss = F.mse_loss(x, self(x))\n",
    "        self.log(f\"{stage}_loss\", loss, on_step=True)\n",
    "        return loss"
   ]
  },
  {
   "cell_type": "code",
   "execution_count": 30,
   "metadata": {},
   "outputs": [],
   "source": [
    "autoencoder = LitAutoEncoder()"
   ]
  },
  {
   "cell_type": "code",
   "execution_count": 31,
   "metadata": {},
   "outputs": [],
   "source": [
    "# define the dataset\n",
    "root_dir = '/data2/eranario/data/MNIST-Dataset/lightning'\n",
    "transform = transforms.ToTensor()\n",
    "train_set = MNIST(root_dir, download=False, train=True, transform=transform)\n",
    "test_set = MNIST(root_dir, download=False, train=False, transform=transform)\n",
    "\n",
    "train_set_size = int(len(train_set) * 0.8)\n",
    "valid_set_size = len(train_set) - train_set_size\n",
    "seed = torch.Generator().manual_seed(42)\n",
    "train_set_split, valid_set_split = data.random_split(train_set, [train_set_size, valid_set_size], generator=seed)\n",
    "\n",
    "train_loader_full = DataLoader(train_set, batch_size=10, shuffle=False)\n",
    "train_loader_split = DataLoader(train_set_split, batch_size=10, shuffle=False)\n",
    "valid_loader = DataLoader(valid_set_split, batch_size=10, shuffle=False)"
   ]
  },
  {
   "cell_type": "code",
   "execution_count": 32,
   "metadata": {},
   "outputs": [
    {
     "name": "stderr",
     "output_type": "stream",
     "text": [
      "GPU available: True (cuda), used: True\n",
      "TPU available: False, using: 0 TPU cores\n",
      "IPU available: False, using: 0 IPUs\n",
      "HPU available: False, using: 0 HPUs\n",
      "/home/eranario/miniconda3/envs/lightning/lib/python3.10/site-packages/lightning/pytorch/trainer/configuration_validator.py:74: You defined a `validation_step` but have no `val_dataloader`. Skipping val loop.\n",
      "LOCAL_RANK: 0 - CUDA_VISIBLE_DEVICES: [0]\n",
      "\n",
      "  | Name    | Type       | Params\n",
      "---------------------------------------\n",
      "0 | encoder | Sequential | 50.4 K\n",
      "1 | decoder | Sequential | 51.2 K\n",
      "---------------------------------------\n",
      "101 K     Trainable params\n",
      "0         Non-trainable params\n",
      "101 K     Total params\n",
      "0.407     Total estimated model params size (MB)\n",
      "/home/eranario/miniconda3/envs/lightning/lib/python3.10/site-packages/lightning/pytorch/trainer/connectors/data_connector.py:441: The 'train_dataloader' does not have many workers which may be a bottleneck. Consider increasing the value of the `num_workers` argument` to `num_workers=11` in the `DataLoader` to improve performance.\n"
     ]
    },
    {
     "name": "stdout",
     "output_type": "stream",
     "text": [
      "Epoch 49: 100%|██████████| 100/100 [00:00<00:00, 127.17it/s, v_num=1]"
     ]
    },
    {
     "name": "stderr",
     "output_type": "stream",
     "text": [
      "`Trainer.fit` stopped: `max_epochs=50` reached.\n"
     ]
    },
    {
     "name": "stdout",
     "output_type": "stream",
     "text": [
      "Epoch 49: 100%|██████████| 100/100 [00:00<00:00, 125.49it/s, v_num=1]\n"
     ]
    }
   ],
   "source": [
    "# train the model (hint: here are some helpful Trainer arguments for rapid idea iteration)\n",
    "trainer = L.Trainer(limit_train_batches=100, max_epochs=50, default_root_dir=\"/data2/eranario/intermediate_data/MNIST_logs/setup\")\n",
    "# trainer.fit(autoencoder, train_loader, valid_loader)\n",
    "trainer.fit(autoencoder, train_loader_full)"
   ]
  },
  {
   "cell_type": "markdown",
   "metadata": {},
   "source": [
    "TEST"
   ]
  },
  {
   "cell_type": "code",
   "execution_count": 71,
   "metadata": {},
   "outputs": [
    {
     "name": "stderr",
     "output_type": "stream",
     "text": [
      "LOCAL_RANK: 0 - CUDA_VISIBLE_DEVICES: [0]\n",
      "/home/eranario/miniconda3/envs/lightning/lib/python3.10/site-packages/lightning/pytorch/trainer/connectors/data_connector.py:441: The 'predict_dataloader' does not have many workers which may be a bottleneck. Consider increasing the value of the `num_workers` argument` to `num_workers=11` in the `DataLoader` to improve performance.\n"
     ]
    },
    {
     "name": "stdout",
     "output_type": "stream",
     "text": [
      "Predicting DataLoader 0: 100%|██████████| 10000/10000 [00:20<00:00, 487.29it/s]\n"
     ]
    }
   ],
   "source": [
    "# load checkpoint\n",
    "checkpoint = \"/data2/eranario/intermediate_data/MNIST_logs/setup/lightning_logs/version_1/checkpoints/epoch=49-step=5000.ckpt\"\n",
    "test_loader = DataLoader(test_set)\n",
    "autoencoder = LitAutoEncoder.load_from_checkpoint(checkpoint)\n",
    "\n",
    "# run predictions\n",
    "predictions = trainer.predict(autoencoder, dataloaders=test_loader)"
   ]
  },
  {
   "cell_type": "code",
   "execution_count": 74,
   "metadata": {},
   "outputs": [],
   "source": [
    "predictions = torch.cat(predictions).squeeze(1)"
   ]
  },
  {
   "cell_type": "code",
   "execution_count": 75,
   "metadata": {},
   "outputs": [
    {
     "data": {
      "image/png": "[encoded data removed]",
      "text/plain": [
       "<Figure size 200x400 with 2 Axes>"
      ]
     },
     "metadata": {},
     "output_type": "display_data"
    }
   ],
   "source": [
    "inputs, _ = next(iter(test_loader))\n",
    "num_images = min(10, len(inputs))  # Adjust the number based on the actual batch size\n",
    "\n",
    "fig, axes = plt.subplots(2, num_images, figsize=(2 * num_images, 4))  # 2 rows, num_images columns\n",
    "\n",
    "# Check if axes is a 1D array and make it 2D if necessary\n",
    "if num_images == 1:\n",
    "    axes = axes.reshape(2, -1)  # Reshape to 2D (2 rows, 1 column)\n",
    "\n",
    "for i in range(num_images):\n",
    "    # Reshape and display the input images\n",
    "    input_img = inputs[i].view(28, 28).numpy()  # Ensure inputs are reshaped to 28x28 for display\n",
    "    axes[0, i].imshow(input_img, cmap='gray')\n",
    "    axes[0, i].axis('off')  # Turn off axis numbering\n",
    "    axes[0, i].set_title(f'Input {i+1}')\n",
    "\n",
    "    # Reshape and display the predicted images\n",
    "    pred_img = predictions[i].view(28, 28).numpy()\n",
    "    axes[1, i].imshow(pred_img, cmap='gray')\n",
    "    axes[1, i].axis('off')\n",
    "    axes[1, i].set_title(f'Prediction {i+1}')\n",
    "\n",
    "plt.tight_layout()\n",
    "plt.show()"
   ]
  }
 ],
 "metadata": {
  "kernelspec": {
   "display_name": "lightning",
   "language": "python",
   "name": "python3"
  },
  "language_info": {
   "codemirror_mode": {
    "name": "ipython",
    "version": 3
   },
   "file_extension": ".py",
   "mimetype": "text/x-python",
   "name": "python",
   "nbconvert_exporter": "python",
   "pygments_lexer": "ipython3",
   "version": "3.10.14"
  }
 },
 "nbformat": 4,
 "nbformat_minor": 2
}
