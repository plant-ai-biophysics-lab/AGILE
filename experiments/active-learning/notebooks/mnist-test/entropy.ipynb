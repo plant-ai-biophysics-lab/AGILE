{
 "cells": [
  {
   "cell_type": "code",
   "execution_count": null,
   "metadata": {},
   "outputs": [],
   "source": [
    "import matplotlib.pyplot as plt\n",
    "import numpy as np"
   ]
  },
  {
   "cell_type": "code",
   "execution_count": null,
   "metadata": {},
   "outputs": [],
   "source": [
    "# to test entropy\n",
    "def entropy(prob_dist, base=np.e):\n",
    "    return -np.sum(prob_dist * np.log(prob_dist) / np.log(base))\n",
    "\n",
    "# Probabilities to test\n",
    "probabilities = np.linspace(0.01, 0.99, 100)\n",
    "\n",
    "# Different bases to test\n",
    "bases = [2, np.e, 10]\n",
    "\n",
    "# Calculating entropy for different bases\n",
    "entropy_values = {base: [] for base in bases}\n",
    "for p in probabilities:\n",
    "    prob_dist = np.array([p, 1-p])  # Binary distribution for simplicity\n",
    "    for base in bases:\n",
    "        entropy_values[base].append(entropy(prob_dist, base=base))\n",
    "\n",
    "# Plotting the results\n",
    "plt.figure(figsize=(10, 6))\n",
    "for base in bases:\n",
    "    plt.plot(probabilities, entropy_values[base], label=f'Base {base}')\n",
    "\n",
    "plt.xlabel('Probability')\n",
    "plt.ylabel('Entropy')\n",
    "plt.title('Entropy for Different Bases')\n",
    "plt.legend()\n",
    "plt.grid(True)\n",
    "plt.show()"
   ]
  },
  {
   "cell_type": "code",
   "execution_count": null,
   "metadata": {},
   "outputs": [],
   "source": [
    "# Finding the confidence with the largest (negative) score for base e\n",
    "prob_dist = np.linspace(0.01, 0.99, 1000)\n",
    "entropy_scores = prob_dist * np.log(prob_dist)\n",
    "max_confidence = prob_dist[np.argmin(entropy_scores)]\n",
    "max_score = np.min(entropy_scores)\n",
    "\n",
    "print(f'Confidence with the largest (negative) score for base e: {max_confidence}')\n",
    "print(f'Largest (negative) score: {max_score}')"
   ]
  },
  {
   "cell_type": "code",
   "execution_count": null,
   "metadata": {},
   "outputs": [],
   "source": [
    "# Probabilities to test\n",
    "probabilities = np.linspace(0.01, 0.99, 1000)\n",
    "\n",
    "# Calculating the term P(y|x) * log(P(y|x))\n",
    "log_term = probabilities * np.log(probabilities)\n",
    "\n",
    "# Plotting the results\n",
    "plt.figure(figsize=(10, 6))\n",
    "plt.plot(probabilities, log_term, label='$P(y|x) \\log(P(y|x))$', color='b')\n",
    "\n",
    "# Finding the confidence with the largest (negative) score for base e\n",
    "max_confidence = probabilities[np.argmin(log_term)]\n",
    "max_score = np.min(log_term)\n",
    "\n",
    "# Highlighting the point of maximum (negative) score\n",
    "plt.scatter(max_confidence, max_score, color='r')\n",
    "plt.text(max_confidence, max_score, f'({max_confidence:.4f}, {max_score:.4f})', \n",
    "         fontsize=12, verticalalignment='bottom', horizontalalignment='right')\n",
    "\n",
    "plt.xlabel('Probability')\n",
    "plt.ylabel('$P(y|x) \\log(P(y|x))$')\n",
    "plt.title('$P(y|x) \\log(P(y|x))$ for Different Probabilities')\n",
    "plt.legend()\n",
    "plt.grid(True)\n",
    "plt.show()"
   ]
  }
 ],
 "metadata": {
  "language_info": {
   "name": "python"
  }
 },
 "nbformat": 4,
 "nbformat_minor": 2
}
