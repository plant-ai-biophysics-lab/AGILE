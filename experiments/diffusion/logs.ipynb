{
 "cells": [
  {
   "cell_type": "code",
   "execution_count": 2,
   "metadata": {},
   "outputs": [
    {
     "name": "stdout",
     "output_type": "stream",
     "text": [
      "Data saved to output.csv\n"
     ]
    }
   ],
   "source": [
    "import os\n",
    "import csv\n",
    "from tensorboard.backend.event_processing.event_accumulator import EventAccumulator\n",
    "\n",
    "# Path to the directory containing the .tfevents file\n",
    "log_dir = \"/group/jmearlesgrp/intermediate_data/eranario/Active-Learning/ControlNet_logs/borden_synday2day_SAM_0821_v-param/lightning_logs/version_15163998\"\n",
    "output_csv = \"output.csv\"\n",
    "\n",
    "# Find the .tfevents file in the directory\n",
    "for root, dirs, files in os.walk(log_dir):\n",
    "    for file in files:\n",
    "        if file.startswith(\"events.out.tfevents\"):\n",
    "            event_file = os.path.join(root, file)\n",
    "            break\n",
    "\n",
    "# Read the .tfevents file\n",
    "event_acc = EventAccumulator(event_file)\n",
    "event_acc.Reload()\n",
    "\n",
    "tags = event_acc.Tags()['scalars']\n",
    "\n",
    "# Prepare CSV writing\n",
    "with open(output_csv, 'w', newline='') as csvfile:\n",
    "    writer = csv.writer(csvfile)\n",
    "    writer.writerow([\"step\", \"wall_time\", \"tag\", \"value\"])\n",
    "\n",
    "    for tag in tags:\n",
    "        events = event_acc.Scalars(tag)\n",
    "        for event in events:\n",
    "            writer.writerow([event.step, event.wall_time, tag, event.value])\n",
    "\n",
    "print(f\"Data saved to {output_csv}\")"
   ]
  },
  {
   "cell_type": "code",
   "execution_count": null,
   "metadata": {},
   "outputs": [],
   "source": []
  }
 ],
 "metadata": {
  "kernelspec": {
   "display_name": "lightning",
   "language": "python",
   "name": "python3"
  },
  "language_info": {
   "codemirror_mode": {
    "name": "ipython",
    "version": 3
   },
   "file_extension": ".py",
   "mimetype": "text/x-python",
   "name": "python",
   "nbconvert_exporter": "python",
   "pygments_lexer": "ipython3",
   "version": "3.10.14"
  }
 },
 "nbformat": 4,
 "nbformat_minor": 2
}
